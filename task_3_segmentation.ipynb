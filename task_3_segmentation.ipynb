{
 "cells": [
  {
   "cell_type": "markdown",
   "id": "ec0d30bc",
   "metadata": {},
   "source": [
    "The difference consists in passing these strings to the LLM as input:\n",
    "\n",
    "CoNLL Tokenized:\n",
    "What if Google expanded on its search - engine ( and now e-mail ) wares into a full - fledged\n",
    "operating system ?\n",
    "\n",
    "Original sentence:\n",
    "What if Google expanded on its search-engine (and now e-mail) wares into a full-fledged\n",
    "operating system?\n",
    "\n",
    "Test the performance of the LLM tagger on the original sentences. Do you need to update the\n",
    "evaluation metrics for this new setting? Collect sentences that fail with original sentences and\n",
    "succeeded with the tokenized version."
   ]
  },
  {
   "cell_type": "code",
   "execution_count": 1,
   "id": "82a3cd04",
   "metadata": {},
   "outputs": [
    {
     "name": "stdout",
     "output_type": "stream",
     "text": [
      "[[['What', 'PRON'], ['if', 'SCONJ'], ['Google', 'PROPN'], ['expanded', 'VERB'], ['on', 'ADP'], ['its', 'DET'], ['search', 'NOUN'], ['engine', 'NOUN'], ['wares', 'NOUN'], ['into', 'ADP'], ['a', 'DET'], ['full', 'ADJ'], ['fledged', 'VERB'], ['operating', 'VERB'], ['system', 'NOUN'], ['?', 'PUNCT']], [['What', 'PRON'], ['if', 'SCONJ'], ['Google', 'PROPN'], ['expanded', 'VERB'], ['on', 'ADP'], ['its', 'DET'], ['search-engine', 'NOUN'], ['(', 'PUNCT'], ['and', 'CCONJ'], ['now', 'ADV'], ['e-mail', 'NOUN'], [')', 'PUNCT'], ['wares', 'NOUN'], ['into', 'ADP'], ['a', 'DET'], ['full-fledged', 'ADJ'], ['operating', 'VERB'], ['system', 'NOUN'], ['?', 'PUNCT']]]\n"
     ]
    }
   ],
   "source": [
    "import os, json\n",
    "\n",
    "with open(\"task_3_1.json\", \"r\") as f:\n",
    "    task_3_1 = json.load(f)\n",
    "print(task_3_1)\n"
   ]
  }
 ],
 "metadata": {
  "kernelspec": {
   "display_name": ".venv",
   "language": "python",
   "name": "python3"
  },
  "language_info": {
   "codemirror_mode": {
    "name": "ipython",
    "version": 3
   },
   "file_extension": ".py",
   "mimetype": "text/x-python",
   "name": "python",
   "nbconvert_exporter": "python",
   "pygments_lexer": "ipython3",
   "version": "3.12.3"
  }
 },
 "nbformat": 4,
 "nbformat_minor": 5
}
